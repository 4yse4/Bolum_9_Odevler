{
 "cells": [
  {
   "cell_type": "code",
   "execution_count": 1,
   "metadata": {},
   "outputs": [],
   "source": [
    "import numpy as np\n",
    "import pandas as pd\n",
    "import matplotlib.pyplot as plt\n",
    "from matplotlib.patches import Ellipse\n",
    "from sklearn.preprocessing import StandardScaler\n",
    "from sklearn.mixture import GaussianMixture\n",
    "from sklearn.decomposition import PCA\n",
    "from sklearn import datasets, metrics"
   ]
  },
  {
   "cell_type": "code",
   "execution_count": 2,
   "metadata": {},
   "outputs": [],
   "source": [
    "#load the dataset\n",
    "heartdisease_df=pd.read_csv(\"heart.csv\")\n",
    "# Define the features and the outcome\n",
    "X = heartdisease_df.iloc[:, :13]\n",
    "y = heartdisease_df.iloc[:, 13]\n",
    "# Replace missing values (marked by ?) with a 0\n",
    "X = X.replace(to_replace='?', value=0)\n",
    "# Binarize y so that 1 means heart disease diagnosis and 0 means no diagnosis\n",
    "y = np.where(y > 0, 0, 1)\n",
    "# Standarizing the features\n",
    "scaler = StandardScaler()\n",
    "X_std = scaler.fit_transform(X)\n"
   ]
  },
  {
   "cell_type": "markdown",
   "metadata": {},
   "source": [
    "1.n_components = 2 olarak ayarlayarak kalp hastalığı verilerine GMM uygulayın. Çözümünüz için ARI ve siluet skorlarına bakın ve önceki derslerde k-means ve hiyerarşik kümeleme çözümleriyle karşılaştırın. Hangi algoritma daha iyi performans gösteriyor?"
   ]
  },
  {
   "cell_type": "code",
   "execution_count": 3,
   "metadata": {},
   "outputs": [],
   "source": [
    "gmm_cluster = GaussianMixture(n_components=2, random_state=123)\n",
    "clusters = gmm_cluster.fit_predict(X_std)"
   ]
  },
  {
   "cell_type": "code",
   "execution_count": 4,
   "metadata": {},
   "outputs": [
    {
     "name": "stdout",
     "output_type": "stream",
     "text": [
      "GMM çözümünün Düzeltilmiş Rand Endeksi (ARI): 0.190\n",
      "GMM çözümünün siluet skoru                  : 0.135\n"
     ]
    }
   ],
   "source": [
    "print(\"GMM çözümünün Düzeltilmiş Rand Endeksi (ARI): {:.3f}\"\n",
    "      .format(metrics.adjusted_rand_score(y, clusters)))\n",
    "print(\"GMM çözümünün siluet skoru                  : {:.3f}\"\n",
    "      .format(metrics.silhouette_score(X_std, clusters, metric='euclidean')))"
   ]
  },
  {
   "cell_type": "markdown",
   "metadata": {},
   "source": [
    "k-ortalamanın degerler:  \n",
    "siluet degeri= 0.16759734983094837 n= 2 icin ayarlanmıs rand indeksi= 0.3951165387976022  \n",
    "hiyerarşik kümelemenin farklı metodları için degerler:  \n",
    "average  icin Yığınsal Kümeleme Sonuçlarının Ayarlanmış Rand Endeksi: -0.0010800413233203012  \n",
    "average  icin The silhoutte score of the Agglomerative Clustering solution: 0.3532620013624347  \n",
    "complete  icin Yığınsal Kümeleme Sonuçlarının Ayarlanmış Rand Endeksi: -0.0010800413233203012  \n",
    "complete  icin The silhoutte score of the Agglomerative Clustering solution: 0.3532620013624347  \n",
    "ward  icin Yığınsal Kümeleme Sonuçlarının Ayarlanmış Rand Endeksi: 0.2454680392170414  \n",
    "ward  icin The silhoutte score of the Agglomerative Clustering solution: 0.1325316617259095  \n",
    "\n",
    "tüm değerleri inceleyince ARI açısından en iyisi:k-ortalama siluet açısından en iyisi:hiyerarsik kümelemenin average ve complete metodları oldukları görülüyor.GMM bu dataset için en geride kalıyor bu metriklere bakınca."
   ]
  },
  {
   "cell_type": "markdown",
   "metadata": {},
   "source": [
    "\n",
    "**2.** Scikit-learn ile GMM uygulanırken kullanılan parametrelerden biri de covariance_type'dir. Bu parametre, kullanılacak kovaryans parametrelerinin türünü belirler. Özellikle, belirtebileceğiniz dört tür vardır:\n",
    "\n",
    "full: Bu varsayılandır. Her bileşenin kendi genel kovaryans matrisi vardır.  \n",
    "tied: Tüm bileşenler aynı genel kovaryans matrisini paylaşır.  \n",
    "diag: Her bir bileşenin kendi çapraz kovaryans matrisi vardır.  \n",
    "spherical: Her bir bileşenin kendine ait tek bir varyansı vardır.    \n",
    "\n",
    "Bunları deneyin. Hangisi ARI ve siluet skorları açısından daha iyi performans gösteriyor?"
   ]
  },
  {
   "cell_type": "code",
   "execution_count": 5,
   "metadata": {},
   "outputs": [
    {
     "name": "stdout",
     "output_type": "stream",
     "text": [
      "full  kovaryans tipi icin GMM çözümünün Düzeltilmiş Rand Endeksi (ARI): 0.190\n",
      "full  kovaryans tipi icin GMM çözümünün siluet skoru                  : 0.135\n",
      "tied  kovaryans tipi icin GMM çözümünün Düzeltilmiş Rand Endeksi (ARI): 0.190\n",
      "tied  kovaryans tipi icin GMM çözümünün siluet skoru                  : 0.135\n",
      "diag  kovaryans tipi icin GMM çözümünün Düzeltilmiş Rand Endeksi (ARI): 0.190\n",
      "diag  kovaryans tipi icin GMM çözümünün siluet skoru                  : 0.135\n",
      "spherical  kovaryans tipi icin GMM çözümünün Düzeltilmiş Rand Endeksi (ARI): 0.178\n",
      "spherical  kovaryans tipi icin GMM çözümünün siluet skoru                  : 0.107\n"
     ]
    }
   ],
   "source": [
    "cov_type=[\"full\",\"tied\",\"diag\",\"spherical\"]\n",
    "for i in cov_type:\n",
    "    gmm_cluster = GaussianMixture(n_components=2,covariance_type=i, random_state=123)\n",
    "    clusters = gmm_cluster.fit_predict(X_std)\n",
    "    print(i,\" kovaryans tipi icin GMM çözümünün Düzeltilmiş Rand Endeksi (ARI): {:.3f}\"\n",
    "      .format(metrics.adjusted_rand_score(y, clusters)))\n",
    "    print(i,\" kovaryans tipi icin GMM çözümünün siluet skoru                  : {:.3f}\"\n",
    "      .format(metrics.silhouette_score(X_std, clusters, metric='euclidean')))"
   ]
  },
  {
   "cell_type": "markdown",
   "metadata": {},
   "source": [
    "4 ayrı kovaryans tipi içinde **spherical** iki metrik açısından da en kötüsü olmak üzere diğer üçünün değerleri aynı çıktı."
   ]
  }
 ],
 "metadata": {
  "kernelspec": {
   "display_name": "Python 3",
   "language": "python",
   "name": "python3"
  },
  "language_info": {
   "codemirror_mode": {
    "name": "ipython",
    "version": 3
   },
   "file_extension": ".py",
   "mimetype": "text/x-python",
   "name": "python",
   "nbconvert_exporter": "python",
   "pygments_lexer": "ipython3",
   "version": "3.7.2"
  }
 },
 "nbformat": 4,
 "nbformat_minor": 2
}

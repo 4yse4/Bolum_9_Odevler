{
 "cells": [
  {
   "cell_type": "code",
   "execution_count": 1,
   "metadata": {},
   "outputs": [],
   "source": [
    "import numpy as np\n",
    "import pandas as pd\n",
    "import scipy\n",
    "import matplotlib.pyplot as plt\n",
    "import seaborn as sns\n",
    "from sklearn.cluster import KMeans\n",
    "from sklearn.preprocessing import StandardScaler\n",
    "from sklearn.model_selection import train_test_split\n",
    "from sklearn.decomposition import PCA\n",
    "from sklearn import datasets, metrics"
   ]
  },
  {
   "cell_type": "code",
   "execution_count": 2,
   "metadata": {},
   "outputs": [],
   "source": [
    "#soru1\n",
    "# Loading the data from Sklearn's datasets\n",
    "iris = datasets.load_iris()\n",
    "X = iris.data\n",
    "y = iris.target\n",
    "\n",
    "# Standarizing the features\n",
    "scaler = StandardScaler()\n",
    "X_std = scaler.fit_transform(X)"
   ]
  },
  {
   "cell_type": "code",
   "execution_count": 3,
   "metadata": {},
   "outputs": [
    {
     "name": "stdout",
     "output_type": "stream",
     "text": [
      "23 ms ± 801 µs per loop (mean ± std. dev. of 7 runs, 10 loops each)\n"
     ]
    }
   ],
   "source": [
    "# Defining the k-means\n",
    "kmeans_küme = KMeans(n_clusters=2, random_state=123)\n",
    "\n",
    "# Fit model\n",
    "%timeit kmeans_küme.fit(X_std)\n",
    "y_pred = kmeans_küme.predict(X_std)"
   ]
  },
  {
   "cell_type": "code",
   "execution_count": 4,
   "metadata": {},
   "outputs": [
    {
     "data": {
      "text/plain": [
       "0.5817500491982808"
      ]
     },
     "execution_count": 4,
     "metadata": {},
     "output_type": "execute_result"
    }
   ],
   "source": [
    "#print(metrics.adjusted_rand_score(y, y_pred))\n",
    "metrics.silhouette_score(X_std, y_pred, metric='euclidean')"
   ]
  },
  {
   "cell_type": "code",
   "execution_count": 5,
   "metadata": {},
   "outputs": [
    {
     "name": "stdout",
     "output_type": "stream",
     "text": [
      "35.4 ms ± 1.05 ms per loop (mean ± std. dev. of 7 runs, 10 loops each)\n"
     ]
    }
   ],
   "source": [
    "# Defining the k-means\n",
    "kmeans_küme = KMeans(n_clusters=3, random_state=123)\n",
    "\n",
    "# Fit model\n",
    "%timeit kmeans_küme.fit(X_std)\n",
    "y_pred = kmeans_küme.predict(X_std)"
   ]
  },
  {
   "cell_type": "code",
   "execution_count": 6,
   "metadata": {},
   "outputs": [
    {
     "data": {
      "text/plain": [
       "0.45994823920518635"
      ]
     },
     "execution_count": 6,
     "metadata": {},
     "output_type": "execute_result"
    }
   ],
   "source": [
    "#print(metrics.adjusted_rand_score(y, y_pred))\n",
    "metrics.silhouette_score(X_std, y_pred, metric='euclidean')"
   ]
  },
  {
   "cell_type": "markdown",
   "metadata": {},
   "source": [
    "2 kümelinin siluet sayısı, 3 kümeli gerçek duruma göre fazla çıktı. Bunun sebebi siluet katsayısının hesaplanma yönteminden kaynaklanıyor olabilir. Bu yöntemde küme elemanları düzgün bir geometri ile dağılmışsalar hesaplama verimli oluyor. Veri kümemizde bazı kümelerin dağılımı demekki düz olmayan bir geometri sergiliyor ki bu durum ortya çıkıyor."
   ]
  },
  {
   "cell_type": "code",
   "execution_count": 7,
   "metadata": {},
   "outputs": [],
   "source": [
    "#soru2\n",
    "#load the dataset\n",
    "heartdisease_df=pd.read_csv(\"heart.csv\")\n",
    "# Define the features and the outcome\n",
    "X = heartdisease_df.iloc[:, :13]\n",
    "y = heartdisease_df.iloc[:, 13]\n",
    "# Replace missing values (marked by ?) with a 0\n",
    "X = X.replace(to_replace='?', value=0)\n",
    "# Binarize y so that 1 means heart disease diagnosis and 0 means no diagnosis\n",
    "y = np.where(y > 0, 0, 1)"
   ]
  },
  {
   "cell_type": "code",
   "execution_count": 8,
   "metadata": {},
   "outputs": [],
   "source": [
    "# Standarizing the features\n",
    "scaler = StandardScaler()\n",
    "X_std = scaler.fit_transform(X)"
   ]
  },
  {
   "cell_type": "code",
   "execution_count": 9,
   "metadata": {},
   "outputs": [
    {
     "name": "stdout",
     "output_type": "stream",
     "text": [
      "n= 2 icin siluet degeri= 0.16759734983094837\n",
      "n= 2 icin ayarlanmıs rand indeksi= 0.3951165387976022\n",
      "n= 3 icin siluet degeri= 0.11794109316465223\n",
      "n= 3 icin ayarlanmıs rand indeksi= 0.2542833102460458\n",
      "n= 4 icin siluet degeri= 0.11718365262651195\n",
      "n= 4 icin ayarlanmıs rand indeksi= 0.24358311991713683\n"
     ]
    }
   ],
   "source": [
    "sonuc=[]\n",
    "for i in range(2,5):\n",
    "    kmeans_küme = KMeans(n_clusters=i, random_state=66)\n",
    "    kmeans_küme.fit(X_std)\n",
    "    y_pred= kmeans_küme.predict(X_std)\n",
    "    sonuc.append(y_pred)\n",
    "    print(\"n=\",i,\"icin siluet degeri=\",metrics.silhouette_score(X_std, y_pred, metric='euclidean'))\n",
    "    print(\"n=\",i,\"icin ayarlanmıs rand indeksi=\",metrics.adjusted_rand_score(y, y_pred))\n",
    "    "
   ]
  },
  {
   "cell_type": "markdown",
   "metadata": {},
   "source": [
    "Siluet katsayısı da ayarlanmıs rand indeksimizde gerçek durum olan K=2 için en yüksek çıktı."
   ]
  }
 ],
 "metadata": {
  "kernelspec": {
   "display_name": "Python 3",
   "language": "python",
   "name": "python3"
  },
  "language_info": {
   "codemirror_mode": {
    "name": "ipython",
    "version": 3
   },
   "file_extension": ".py",
   "mimetype": "text/x-python",
   "name": "python",
   "nbconvert_exporter": "python",
   "pygments_lexer": "ipython3",
   "version": "3.7.2"
  }
 },
 "nbformat": 4,
 "nbformat_minor": 2
}
